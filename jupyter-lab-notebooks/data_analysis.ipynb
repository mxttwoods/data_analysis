{
 "cells": [
  {
   "cell_type": "markdown",
   "id": "30a654cf-a1aa-4566-9690-0403f8a02e60",
   "metadata": {},
   "source": [
    "# Data Analysis Workbook"
   ]
  },
  {
   "cell_type": "code",
   "execution_count": null,
   "id": "52564b0a-0f95-47f9-b504-a0aab9cc0218",
   "metadata": {},
   "outputs": [],
   "source": [
    "import pandas as pd \n",
    "import matplotlib.pyplot as plt\n",
    "\n",
    "df = pd.read_csv(\"https://people.sc.fsu.edu/~jburkardt/data/csv/zillow.csv\")\n",
    "\n",
    "plt.plot(df)"
   ]
  },
  {
   "cell_type": "code",
   "execution_count": null,
   "id": "659595b0-2ddd-40f5-bbd0-3bed400a76f2",
   "metadata": {},
   "outputs": [],
   "source": [
    "import itertools\n",
    "\n",
    "def expand_grid(data_dict):\n",
    "    rows = itertools.product(*data_dict.values())\n",
    "    return pd.DataFrame.from_records(rows, columns=data_dict.keys())\n",
    "\n",
    "df = expand_grid(\n",
    "    {\"height\": [math.trunc(random.random() * 100 * random.random()), math.trunc(random.random() * 100 * random.random())], \"weight\": [math.trunc(random.random() * 1000 * random.random()), math.trunc(random.random() * 1000 * random.random()), math.trunc(random.random() * 1000 * random.random())], \"sex\": [\"Male\", \"Female\"]}\n",
    ")\n",
    "\n",
    "print(df)"
   ]
  },
  {
   "cell_type": "code",
   "execution_count": 1,
   "id": "f91463a1-a1a7-4f04-a482-54f726b203de",
   "metadata": {},
   "outputs": [
    {
     "name": "stdout",
     "output_type": "stream",
     "text": [
      "C:\\source\\myrepo\\myapp\\myscript.py\n",
      "C:/source/myrepo/myapp/myscript.py\n"
     ]
    }
   ],
   "source": [
    "import os\n",
    "\n",
    "WIN10_STRING = \"C:\\source\\myrepo\\myapp\\myscript.py\"\n",
    "\n",
    "print(WIN10_STRING)\n",
    "\n",
    "print(\n",
    "    os.path.join(\"C:\", \"source\", \"myrepo\", \"myapp\", \"myscript.py\")\n",
    ")"
   ]
  },
  {
   "cell_type": "code",
   "execution_count": null,
   "id": "3d62966e-3019-477f-a3a4-72ec664d27dd",
   "metadata": {},
   "outputs": [],
   "source": [
    "import random \n",
    "import math \n",
    "\n",
    "number = \n"
   ]
  }
 ],
 "metadata": {
  "kernelspec": {
   "display_name": "Python 3 (ipykernel)",
   "language": "python",
   "name": "python3"
  },
  "language_info": {
   "codemirror_mode": {
    "name": "ipython",
    "version": 3
   },
   "file_extension": ".py",
   "mimetype": "text/x-python",
   "name": "python",
   "nbconvert_exporter": "python",
   "pygments_lexer": "ipython3",
   "version": "3.9.7"
  }
 },
 "nbformat": 4,
 "nbformat_minor": 5
}
