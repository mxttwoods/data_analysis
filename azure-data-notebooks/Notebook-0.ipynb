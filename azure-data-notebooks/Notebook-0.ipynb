{
    "metadata": {
        "kernelspec": {
            "display_name": "Python 3 (ipykernel)",
            "language": "python",
            "name": "python3",
        },
        "language_info": {
            "codemirror_mode": {"name": "ipython", "version": 3},
            "file_extension": ".py",
            "mimetype": "text/x-python",
            "name": "python",
            "nbconvert_exporter": "python",
            "pygments_lexer": "ipython3",
            "version": "3.9.7",
        },
    },
    "nbformat_minor": 2,
    "nbformat": 4,
    "cells": [
        {
            "cell_type": "markdown",
            "source": [
                "# Python Playground\n",
                "\n",
                "Data Sources\n",
                " \n",
                "- `https://people.sc.fsu.edu/~jburkardt/data/csv/csv.html`\n",
                "- `https://www.data.gov/`\n",
            ],
            "metadata": {"azdata_cell_guid": "01651c44-f9cb-40ce-a448-1fe371c15610"},
        },
        {
            "cell_type": "code",
            "source": [
                "import requests\n",
                "import pandas as gpd \n",
                "import glob from \n",
                'URL = "https://people.sc.fsu.edu/~jburkardt/data/csv/',
            ],
            "metadata": {"azdata_cell_guid": "37ec6b50-15d1-43fd-ad9e-621b1c025bf0"},
            "outputs": [],
            "execution_count": null,
        },
        {
            "cell_type": "code",
            "source": [
                "import pandas as pd \n",
                "import matplotlib.pyplot as plt\n",
                "from pprint import pprint\n",
                "\n",
                'df = pd.read_csv("https://people.sc.fsu.edu/~jburkardt/data/csv/zillow.csv")\n',
                "\n",
                "",
            ],
            "metadata": {
                "azdata_cell_guid": "ae810b57-8427-4ca6-b818-a08638a96c2b",
                "tags": ["hide_input"],
            },
            "outputs": [
                {
                    "name": "stdout",
                    "text": '0 \n Index                           1.0\n "Living Space (sq ft)"      2222.0\n "Beds"                         3.0\n "Baths"                        3.5\n "Zip"                      32312.0\n "Year"                      1981.0\n "List Price ($)"          250000.0\nName: 0, dtype: float64\n1 \n Index                           2.0\n "Living Space (sq ft)"      1628.0\n "Beds"                         3.0\n "Baths"                        2.0\n "Zip"                      32308.0\n "Year"                      2009.0\n "List Price ($)"          185000.0\nName: 1, dtype: float64\n2 \n Index                           3.0\n "Living Space (sq ft)"      3824.0\n "Beds"                         5.0\n "Baths"                        4.0\n "Zip"                      32312.0\n "Year"                      1954.0\n "List Price ($)"          399000.0\nName: 2, dtype: float64\n3 \n Index                           4.0\n "Living Space (sq ft)"      1137.0\n "Beds"                         3.0\n "Baths"                        2.0\n "Zip"                      32309.0\n "Year"                      1993.0\n "List Price ($)"          150000.0\nName: 3, dtype: float64\n4 \n Index                           5.0\n "Living Space (sq ft)"      3560.0\n "Beds"                         6.0\n "Baths"                        4.0\n "Zip"                      32309.0\n "Year"                      1973.0\n "List Price ($)"          315000.0\nName: 4, dtype: float64\n5 \n Index                           6.0\n "Living Space (sq ft)"      2893.0\n "Beds"                         4.0\n "Baths"                        3.0\n "Zip"                      32312.0\n "Year"                      1994.0\n "List Price ($)"          699000.0\nName: 5, dtype: float64\n6 \n Index                           7.0\n "Living Space (sq ft)"      3631.0\n "Beds"                         4.0\n "Baths"                        3.0\n "Zip"                      32309.0\n "Year"                      1996.0\n "List Price ($)"          649000.0\nName: 6, dtype: float64\n7 \n Index                           8.0\n "Living Space (sq ft)"      2483.0\n "Beds"                         4.0\n "Baths"                        3.0\n "Zip"                      32312.0\n "Year"                      2016.0\n "List Price ($)"          399000.0\nName: 7, dtype: float64\n8 \n Index                           9.0\n "Living Space (sq ft)"      2400.0\n "Beds"                         4.0\n "Baths"                        4.0\n "Zip"                      32312.0\n "Year"                      2002.0\n "List Price ($)"          613000.0\nName: 8, dtype: float64\n9 \n Index                          10.0\n "Living Space (sq ft)"      1997.0\n "Beds"                         3.0\n "Baths"                        3.0\n "Zip"                      32311.0\n "Year"                      2006.0\n "List Price ($)"          295000.0\nName: 9, dtype: float64\n10 \n Index                          11.0\n "Living Space (sq ft)"      2097.0\n "Beds"                         4.0\n "Baths"                        3.0\n "Zip"                      32311.0\n "Year"                      2016.0\n "List Price ($)"          290000.0\nName: 10, dtype: float64\n11 \n Index                          12.0\n "Living Space (sq ft)"      3200.0\n "Beds"                         5.0\n "Baths"                        4.0\n "Zip"                      32312.0\n "Year"                      1964.0\n "List Price ($)"          465000.0\nName: 11, dtype: float64\n12 \n Index                          13.0\n "Living Space (sq ft)"      4892.0\n "Beds"                         5.0\n "Baths"                        6.0\n "Zip"                      32311.0\n "Year"                      2005.0\n "List Price ($)"          799900.0\nName: 12, dtype: float64\n13 \n Index                         14.0\n "Living Space (sq ft)"     1128.0\n "Beds"                        2.0\n "Baths"                       1.0\n "Zip"                     32303.0\n "Year"                     1955.0\n "List Price ($)"          89000.0\nName: 13, dtype: float64\n14 \n Index                          15.0\n "Living Space (sq ft)"      1381.0\n "Beds"                         3.0\n "Baths"                        2.0\n "Zip"                      32301.0\n "Year"                      2006.0\n "List Price ($)"          143000.0\nName: 14, dtype: float64\n15 \n Index                          16.0\n "Living Space (sq ft)"      4242.0\n "Beds"                         4.0\n "Baths"                        5.0\n "Zip"                      32303.0\n "Year"                      2007.0\n "List Price ($)"          569000.0\nName: 15, dtype: float64\n16 \n Index                          17.0\n "Living Space (sq ft)"      2533.0\n "Beds"                         3.0\n "Baths"                        2.0\n "Zip"                      32310.0\n "Year"                      1991.0\n "List Price ($)"          365000.0\nName: 16, dtype: float64\n17 \n Index                          18.0\n "Living Space (sq ft)"      1158.0\n "Beds"                         3.0\n "Baths"                        2.0\n "Zip"                      32303.0\n "Year"                      1993.0\n "List Price ($)"          155000.0\nName: 17, dtype: float64\n18 \n Index                          19.0\n "Living Space (sq ft)"      2497.0\n "Beds"                         4.0\n "Baths"                        4.0\n "Zip"                      32309.0\n "Year"                      1990.0\n "List Price ($)"          289000.0\nName: 18, dtype: float64\n19 \n Index                          20.0\n "Living Space (sq ft)"      4010.0\n "Beds"                         5.0\n "Baths"                        3.0\n "Zip"                      32309.0\n "Year"                      2002.0\n "List Price ($)"          549900.0\nName: 19, dtype: float64\n',
                    "output_type": "stream",
                }
            ],
            "execution_count": 76,
        },
        {
            "cell_type": "code",
            "source": [""],
            "metadata": {"azdata_cell_guid": "c9f85f29-cddf-4c1e-8f44-03b002e8a4eb"},
            "outputs": [],
            "execution_count": null,
        },
        {
            "cell_type": "code",
            "source": [
                "import itertools\n",
                "\n",
                "def expand_grid(data_dict):\n",
                "    rows = itertools.product(*data_dict.values())\n",
                "    return pd.DataFrame.from_records(rows, columns=data_dict.keys())\n",
                "\n",
                "\n",
                "df = expand_grid(\n",
                '    {"height": [60, 70], "weight": [100, 140, 180], "sex": ["Male", "Female"]}\n',
                ")\n",
                "df",
            ],
            "metadata": {
                "azdata_cell_guid": "73fa66e4-c710-4469-9a76-e921714449b1",
                "tags": ["hide_input"],
            },
            "outputs": [],
            "execution_count": null,
        },
        {
            "cell_type": "code",
            "source": [
                "import os\n",
                "\n",
                'WIN10_STRING = "C:\\source\\myrepo\\myapp\\myscript.py"\n',
                "\n",
                "print(WIN10_STRING)\n",
                "\n",
                "print(\n",
                '    os.path.join("C:", "source", "myrepo", "myapp", "myscript.py")\n',
                ")\n",
            ],
            "metadata": {
                "azdata_cell_guid": "c3a1a68a-be26-4cf9-bf6e-6b82748e54f7",
                "tags": ["hide_input"],
            },
            "outputs": [],
            "execution_count": null,
        },
    ],
}
